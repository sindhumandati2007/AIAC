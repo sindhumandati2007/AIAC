{
  "nbformat": 4,
  "nbformat_minor": 0,
  "metadata": {
    "colab": {
      "provenance": [],
      "authorship_tag": "ABX9TyPgHFDUt+hhPs8oqw9KIfnt",
      "include_colab_link": true
    },
    "kernelspec": {
      "name": "python3",
      "display_name": "Python 3"
    },
    "language_info": {
      "name": "python"
    }
  },
  "cells": [
    {
      "cell_type": "markdown",
      "metadata": {
        "id": "view-in-github",
        "colab_type": "text"
      },
      "source": [
        "<a href=\"https://colab.research.google.com/github/sindhumandati2007/AIAC/blob/main/lab2_2.ipynb\" target=\"_parent\"><img src=\"https://colab.research.google.com/assets/colab-badge.svg\" alt=\"Open In Colab\"/></a>"
      ]
    },
    {
      "cell_type": "code",
      "execution_count": null,
      "metadata": {
        "id": "f_DTSIvrzX0C"
      },
      "outputs": [],
      "source": []
    },
    {
      "cell_type": "markdown",
      "source": [
        "Task1; Build a code to filter all negative numbers from a given list\n",
        "prompt: generate a code to filter all negative numbers in given list"
      ],
      "metadata": {
        "id": "kqNxsFF9zcvM"
      }
    },
    {
      "cell_type": "code",
      "metadata": {
        "colab": {
          "base_uri": "https://localhost:8080/"
        },
        "id": "694e5c8e",
        "outputId": "96182641-446a-434b-e8ef-f5f61c66870d"
      },
      "source": [
        "# Define a sample list\n",
        "numbers = [1, -2, 3, -4, 5, -6, 7, -8, 9, -10]\n",
        "\n",
        "# Filter negative numbers using a list comprehension\n",
        "negative_numbers = [num for num in numbers if num < 0]\n",
        "\n",
        "# Print the filtered list\n",
        "print(negative_numbers)"
      ],
      "execution_count": 1,
      "outputs": [
        {
          "output_type": "stream",
          "name": "stdout",
          "text": [
            "[-2, -4, -6, -8, -10]\n"
          ]
        }
      ]
    },
    {
      "cell_type": "markdown",
      "source": [
        "Explaination:\n",
        "**1.numbers = [1, -2, 3, -4, 5, -6, 7, -8, 9, -10]**\n",
        "These are the given numbers in list. The list consists of positive numbers and negative numbers.\n",
        "**2.negative_numbers = [num for num in numbers if num < 0]**\n",
        "The selected line uses a list comprehension to create a new list called negative_numbers. It iterates through each num in the original numbers list, and includes num in the new list only if it is less than 0 (i.e., negative).\n",
        "**3.print(negative_numbers)**\n",
        "The selected code print(negative_numbers) simply displays the contents of the negative_numbers list to the console.\n",
        "**Output:**\n",
        "[-2, -4, -6, -8, -10]\n"
      ],
      "metadata": {
        "id": "FgJ-8p7H0p98"
      }
    },
    {
      "cell_type": "markdown",
      "source": [
        "2.Task2;Build a code that reads a file"
      ],
      "metadata": {
        "id": "3LiW4CLX262e"
      }
    }
  ]
}