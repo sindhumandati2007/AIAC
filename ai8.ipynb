{
  "nbformat": 4,
  "nbformat_minor": 0,
  "metadata": {
    "colab": {
      "provenance": [],
      "authorship_tag": "ABX9TyPTTX4k6cj1XaeiI7igEF7f",
      "include_colab_link": true
    },
    "kernelspec": {
      "name": "python3",
      "display_name": "Python 3"
    },
    "language_info": {
      "name": "python"
    }
  },
  "cells": [
    {
      "cell_type": "markdown",
      "metadata": {
        "id": "view-in-github",
        "colab_type": "text"
      },
      "source": [
        "<a href=\"https://colab.research.google.com/github/sindhumandati2007/AIAC/blob/main/lab2_2.ipynb\" target=\"_parent\"><img src=\"https://colab.research.google.com/assets/colab-badge.svg\" alt=\"Open In Colab\"/></a>"
      ]
    },
    {
      "cell_type": "markdown",
      "source": [
        "Task1; Build a code to filter all negative numbers from a given list\n",
        "prompt: generate a code to filter all negative numbers in given list"
      ],
      "metadata": {
        "id": "kqNxsFF9zcvM"
      }
    },
    {
      "cell_type": "code",
      "metadata": {
        "colab": {
          "base_uri": "https://localhost:8080/"
        },
        "id": "694e5c8e",
        "outputId": "96182641-446a-434b-e8ef-f5f61c66870d"
      },
      "source": [
        "# Define a sample list\n",
        "numbers = [1, -2, 3, -4, 5, -6, 7, -8, 9, -10]\n",
        "\n",
        "# Filter negative numbers using a list comprehension\n",
        "negative_numbers = [num for num in numbers if num < 0]\n",
        "\n",
        "# Print the filtered list\n",
        "print(negative_numbers)"
      ],
      "execution_count": null,
      "outputs": [
        {
          "output_type": "stream",
          "name": "stdout",
          "text": [
            "[-2, -4, -6, -8, -10]\n"
          ]
        }
      ]
    },
    {
      "cell_type": "markdown",
      "source": [
        "Explaination:\n",
        "**1.numbers = [1, -2, 3, -4, 5, -6, 7, -8, 9, -10]**\n",
        "These are the given numbers in list. The list consists of positive numbers and negative numbers.\n",
        "**2.negative_numbers = [num for num in numbers if num < 0]**\n",
        "The selected line uses a list comprehension to create a new list called negative_numbers. It iterates through each num in the original numbers list, and includes num in the new list only if it is less than 0 (i.e., negative).\n",
        "**3.print(negative_numbers)**\n",
        "The selected code print(negative_numbers) simply displays the contents of the negative_numbers list to the console.\n",
        "**Output:**\n",
        "[-2, -4, -6, -8, -10]\n"
      ],
      "metadata": {
        "id": "FgJ-8p7H0p98"
      }
    },
    {
      "cell_type": "markdown",
      "source": [
        "2.Task2;Build a code that reads a text file and count the frequency of each word\n",
        "prompt: generate a code to read a text file and count the frequency of the word"
      ],
      "metadata": {
        "id": "3LiW4CLX262e"
      }
    },
    {
      "cell_type": "code",
      "metadata": {
        "colab": {
          "base_uri": "https://localhost:8080/"
        },
        "id": "433c0134",
        "outputId": "502aaa24-512d-4329-f4e6-078341698f8f"
      },
      "source": [
        "import string\n",
        "\n",
        "# Create a sample text file (if it doesn't exist)\n",
        "try:\n",
        "    with open('dump.txt', 'x') as f:\n",
        "        f.write('This is a sample text file. This file will be used to count word frequencies. This is a sample.')\n",
        "except FileExistsError:\n",
        "    pass # File already exists\n",
        "\n",
        "# Read the content of the text file\n",
        "with open('dump.txt', 'r') as f:\n",
        "    text = f.read()\n",
        "\n",
        "# Process the text: remove punctuation and convert to lowercase\n",
        "text = text.translate(str.maketrans('', '', string.punctuation)).lower()\n",
        "\n",
        "# Split the text into words\n",
        "words = text.split()\n",
        "\n",
        "# Count word frequencies\n",
        "word_counts = {}\n",
        "for word in words:\n",
        "    word_counts[word] = word_counts.get(word, 0) + 1\n",
        "\n",
        "# Display word frequencies\n",
        "for word, count in word_counts.items():\n",
        "    print(f\"'{word}': {count}\")"
      ],
      "execution_count": null,
      "outputs": [
        {
          "output_type": "stream",
          "name": "stdout",
          "text": [
            "'this': 3\n",
            "'is': 2\n",
            "'a': 2\n",
            "'sample': 2\n",
            "'text': 1\n",
            "'file': 2\n",
            "'will': 1\n",
            "'be': 1\n",
            "'used': 1\n",
            "'to': 1\n",
            "'count': 1\n",
            "'word': 1\n",
            "'frequencies': 1\n"
          ]
        }
      ]
    },
    {
      "cell_type": "markdown",
      "source": [
        "**Explanation:**This code reads a text file, removes punctuation, converts everything to lowercase, splits the text into individual words, counts how many times each word appears, and then prints the word counts."
      ],
      "metadata": {
        "id": "EVyOcM5fa3r5"
      }
    },
    {
      "cell_type": "markdown",
      "source": [
        "3.Task3;Build a Python class called Book with attributes title, author, and\n",
        "a method summary() that prints the details\n",
        "Prompt: generate a Python class called Book with attributes title, author, and\n",
        "a method summary() that prints the details"
      ],
      "metadata": {
        "id": "KdNECoVW_Yma"
      }
    },
    {
      "cell_type": "code",
      "metadata": {
        "id": "4fa17192",
        "colab": {
          "base_uri": "https://localhost:8080/"
        },
        "outputId": "f3c1818a-6a1d-4e1e-bb96-7e6973b03abb"
      },
      "source": [
        "class Book:\n",
        "    def __init__(self, title, author):\n",
        "        self.title = title\n",
        "        self.author = author\n",
        "\n",
        "    def summary(self):\n",
        "        print(f\"Book Title: {self.title}\")\n",
        "        print(f\"Author: {self.author}\")\n",
        "\n",
        "book = Book(\"The Alchemist\", \"Paulo Coelho\")\n",
        "book.summary()"
      ],
      "execution_count": 4,
      "outputs": [
        {
          "output_type": "stream",
          "name": "stdout",
          "text": [
            "Book Title: The Alchemist\n",
            "Author: Paulo Coelho\n"
          ]
        }
      ]
    },
    {
      "cell_type": "markdown",
      "source": [
        "**Explaination:**This code creates a \"blueprint\" for a Book object. Each Book will have a title and an author. The summary() function for a Book will print its title and author. Finally, the code creates a specific Book called \"The Alchemist\" by Paulo Coelho and then prints its summary."
      ],
      "metadata": {
        "id": "6NFDUE0qZqNz"
      }
    },
    {
      "cell_type": "markdown",
      "source": [
        "Task4;write a program that checks whether a number is an Armstrong\n",
        "number.\n",
        "prompt:check given number is armstrong or not"
      ],
      "metadata": {
        "id": "IHY6V91zbUNO"
      }
    },
    {
      "cell_type": "code",
      "metadata": {
        "colab": {
          "base_uri": "https://localhost:8080/"
        },
        "id": "6f28341f-0520-460d-99eb-a2d32c48b645",
        "outputId": "f705a07d-cc64-456a-a758-0015deaf521f"
      },
      "source": [
        "def is_armstrong_number(number):\n",
        "    \"\"\"Checks if a number is an Armstrong number.\"\"\"\n",
        "    # Convert the number to a string to easily get the number of digits\n",
        "    number_str = str(number)\n",
        "    num_digits = len(number_str)\n",
        "\n",
        "    # Calculate the sum of digits raised to the power of the number of digits\n",
        "    armstrong_sum = sum(int(digit) ** num_digits for digit in number_str)\n",
        "\n",
        "    # Check if the sum is equal to the original number\n",
        "    return armstrong_sum == number\n",
        "\n",
        "# Get input from the user\n",
        "try:\n",
        "    num = int(input(\"Enter a number to check: \"))\n",
        "    # Check if it's an Armstrong number and print the result\n",
        "    if is_armstrong_number(num):\n",
        "        print(f\"{num} is an Armstrong number.\")\n",
        "    else:\n",
        "        print(f\"{num} is not an Armstrong number.\")\n",
        "except ValueError:\n",
        "    print(\"Invalid input. Please enter an integer.\")"
      ],
      "execution_count": 6,
      "outputs": [
        {
          "output_type": "stream",
          "name": "stdout",
          "text": [
            "Enter a number to check: 153\n",
            "153 is an Armstrong number.\n"
          ]
        }
      ]
    },
    {
      "cell_type": "markdown",
      "source": [
        "**Explation:**This code defines a function is_armstrong_number that checks if a number is an Armstrong number. It does this by converting the number to a string, calculating the sum of its digits raised to the power of the number of digits, and comparing this sum to the original number. The code then prompts the user for input, checks if the entered number is an Armstrong number using the function, and prints the result. It also includes basic error handling for invalid input.\n",
        "\n",
        "\n"
      ],
      "metadata": {
        "id": "X_3lK6xNcwkM"
      }
    },
    {
      "cell_type": "markdown",
      "source": [
        "Task5;Generate code for sorting a list of dictionaries by a\n",
        "specific key.\n",
        "Prompt:write a code to sort the list of dictionary by a specific key."
      ],
      "metadata": {
        "id": "1ikMSSwrdAmO"
      }
    },
    {
      "cell_type": "code",
      "metadata": {
        "colab": {
          "base_uri": "https://localhost:8080/"
        },
        "id": "8c7f071c",
        "outputId": "db8ba830-e0f3-424e-fd8a-94f657678db5"
      },
      "source": [
        "# Define a list of dictionaries\n",
        "list_of_dicts = [\n",
        "    {'name': 'Alice', 'age': 30, 'city': 'New York'},\n",
        "    {'name': 'Bob', 'age': 25, 'city': 'Los Angeles'},\n",
        "    {'name': 'Charlie', 'age': 35, 'city': 'Chicago'}\n",
        "]\n",
        "\n",
        "# Sort the list by the 'age' key\n",
        "sorted_list = sorted(list_of_dicts, key=lambda x: x['age'])\n",
        "\n",
        "# Print the sorted list\n",
        "print(sorted_list)"
      ],
      "execution_count": 7,
      "outputs": [
        {
          "output_type": "stream",
          "name": "stdout",
          "text": [
            "[{'name': 'Bob', 'age': 25, 'city': 'Los Angeles'}, {'name': 'Alice', 'age': 30, 'city': 'New York'}, {'name': 'Charlie', 'age': 35, 'city': 'Chicago'}]\n"
          ]
        }
      ]
    },
    {
      "cell_type": "markdown",
      "source": [
        "**Explaination:**\n",
        "This code snippet first defines a list named list_of_dicts containing three dictionaries, where each dictionary represents a person with 'name', 'age', and 'city' information.\n",
        "Then, it sorts this list of dictionaries using the sorted() function. The key=lambda x: x['age'] part is crucial:\n",
        "lambda x: x['age'] is a small anonymous function (a lambda function) that takes one argument x (which will be each dictionary in the list) and returns the value associated with the key 'age' for that dictionary.\n",
        "The sorted() function uses this lambda function to determine the sorting order. It sorts the dictionaries based on the values returned by the lambda function for each dictionary, effectively sorting the list by the 'age' of the people.\n",
        "Finally, print(sorted_list) displays the list of dictionaries after it has been sorted by age in ascending order."
      ],
      "metadata": {
        "id": "8d-JfmTZdoDe"
      }
    }
  ]
}
